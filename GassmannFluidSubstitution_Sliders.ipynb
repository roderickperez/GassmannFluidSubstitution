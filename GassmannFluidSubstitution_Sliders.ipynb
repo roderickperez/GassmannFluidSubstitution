{
  "nbformat": 4,
  "nbformat_minor": 0,
  "metadata": {
    "colab": {
      "name": "GassmannFluidSubstitution_Sliders.ipynb",
      "provenance": [],
      "collapsed_sections": [],
      "include_colab_link": true
    },
    "kernelspec": {
      "name": "python3",
      "display_name": "Python 3"
    }
  },
  "cells": [
    {
      "cell_type": "markdown",
      "metadata": {
        "id": "view-in-github",
        "colab_type": "text"
      },
      "source": [
        "<a href=\"https://colab.research.google.com/github/roderickperez/GassmannFluidSubstitution/blob/master/GassmannFluidSubstitution_Sliders.ipynb\" target=\"_parent\"><img src=\"https://colab.research.google.com/assets/colab-badge.svg\" alt=\"Open In Colab\"/></a>"
      ]
    },
    {
      "cell_type": "markdown",
      "metadata": {
        "id": "EKRZSRXwH53m",
        "colab_type": "text"
      },
      "source": [
        "# **Gassmann Fluid Substitution**\n",
        "### Part I\n",
        "Author: Roderick Perez"
      ]
    },
    {
      "cell_type": "code",
      "metadata": {
        "id": "Lj7Ur3ANMtXA",
        "colab_type": "code",
        "colab": {}
      },
      "source": [
        "import pandas as pd\n",
        "import matplotlib as mpl\n",
        "import math"
      ],
      "execution_count": 0,
      "outputs": []
    },
    {
      "cell_type": "markdown",
      "metadata": {
        "id": "xESO1kKwJ2f5",
        "colab_type": "text"
      },
      "source": [
        "### Input Parameters"
      ]
    },
    {
      "cell_type": "code",
      "metadata": {
        "id": "92ffjBqfbn7a",
        "colab_type": "code",
        "colab": {}
      },
      "source": [
        "T = 100 # \"Celcius degrees\"\n",
        "P = 250 #\"bars\"\n",
        "den_bulk = 2.13 #g/cm^3\"\n",
        "Vp = 2.525 #\"km/s\"\n",
        "Vs = 0.985 #\"km/s\"\n",
        "poro_eff = 0.3\n",
        "Sw_eff = 0.35\n",
        "K_min = 36.6 # \"GPa Bulk modulus for a 100% quartz rock\"\n",
        "den_quartz = 2.65 # \"Quartz density\""
      ],
      "execution_count": 0,
      "outputs": []
    },
    {
      "cell_type": "markdown",
      "metadata": {
        "id": "D5cfvcmYcbZG",
        "colab_type": "text"
      },
      "source": [
        "#### Elastic Properties"
      ]
    },
    {
      "cell_type": "code",
      "metadata": {
        "id": "TwLAogXCb0nF",
        "colab_type": "code",
        "colab": {}
      },
      "source": [
        "den_water = 1.07 #\"g/cm^3\"\n",
        "K_wat = 3 #\"GPa\"\n",
        "den_oil = 0.85 #\"g/cm^3\"\n",
        "K_oil = 1.3 #\"Gpa\""
      ],
      "execution_count": 0,
      "outputs": []
    },
    {
      "cell_type": "code",
      "metadata": {
        "id": "63_W6ZaNcmY7",
        "colab_type": "code",
        "colab": {}
      },
      "source": [
        ""
      ],
      "execution_count": 0,
      "outputs": []
    },
    {
      "cell_type": "markdown",
      "metadata": {
        "id": "BVIwMvEQcyTk",
        "colab_type": "text"
      },
      "source": [
        "## 1. Calculate de $K_{sat}^{ini}$"
      ]
    },
    {
      "cell_type": "markdown",
      "metadata": {
        "id": "x7_j-3eKc_3U",
        "colab_type": "text"
      },
      "source": [
        "$K_{sat}^{ini}=\\rho\\left ( V_{p}^{2} -\\frac{4}{3} V_{s}^{2}\\right )$"
      ]
    },
    {
      "cell_type": "code",
      "metadata": {
        "id": "a6Fm2Ryyc53E",
        "colab_type": "code",
        "outputId": "6beb09a5-0481-47df-c6cc-7655e628f068",
        "colab": {
          "base_uri": "https://localhost:8080/",
          "height": 34
        }
      },
      "source": [
        "K_sat_ini = den_bulk*((pow(Vp, 2))-((4/3)*(pow(Vs, 2))))\n",
        "print(K_sat_ini)"
      ],
      "execution_count": 0,
      "outputs": [
        {
          "output_type": "stream",
          "text": [
            "10.824642249999998\n"
          ],
          "name": "stdout"
        }
      ]
    },
    {
      "cell_type": "code",
      "metadata": {
        "id": "LMEqn95YdVLY",
        "colab_type": "code",
        "outputId": "c6d9b139-7538-4cc2-8188-ee1bd5137d39",
        "colab": {
          "base_uri": "https://localhost:8080/",
          "height": 34
        }
      },
      "source": [
        "mu = den_bulk*(pow(Vs, 2))\n",
        "print(mu)"
      ],
      "execution_count": 0,
      "outputs": [
        {
          "output_type": "stream",
          "text": [
            "2.0665792499999998\n"
          ],
          "name": "stdout"
        }
      ]
    },
    {
      "cell_type": "markdown",
      "metadata": {
        "id": "G7ISCCZUkTTf",
        "colab_type": "text"
      },
      "source": [
        "### 2. Compute effective fluid properties"
      ]
    },
    {
      "cell_type": "markdown",
      "metadata": {
        "id": "yTpzPJdNieLy",
        "colab_type": "text"
      },
      "source": [
        "$K_{flu}^{ini}=\\frac{1}{\\frac{Sw_{effe}}{K_{w}^{ini}}+\\frac{\\left ( 1-Sw_{effe} \\right )}{K_{oil}}}$"
      ]
    },
    {
      "cell_type": "code",
      "metadata": {
        "id": "i0Awol8_diWQ",
        "colab_type": "code",
        "outputId": "7764a892-4672-44a6-d0f2-b1e496fc1530",
        "colab": {
          "base_uri": "https://localhost:8080/",
          "height": 34
        }
      },
      "source": [
        "K_flu_ini = 1 / ((Sw_eff/K_wat)+((1-Sw_eff)/K_oil))\n",
        "print(K_flu_ini)"
      ],
      "execution_count": 0,
      "outputs": [
        {
          "output_type": "stream",
          "text": [
            "1.6216216216216215\n"
          ],
          "name": "stdout"
        }
      ]
    },
    {
      "cell_type": "markdown",
      "metadata": {
        "id": "bO8ryRzokxYN",
        "colab_type": "text"
      },
      "source": [
        "$\\rho_{fl^{ini}}=Sw_{effe}\\rho+\\left ( 1-Sw_{effe} \\right )\\rho_{oil}$"
      ]
    },
    {
      "cell_type": "code",
      "metadata": {
        "id": "hizeDWhRlI_0",
        "colab_type": "code",
        "outputId": "d5dcfbdb-27e4-4dc7-f090-39e8c184f6e9",
        "colab": {
          "base_uri": "https://localhost:8080/",
          "height": 34
        }
      },
      "source": [
        "den_flu_ini = Sw_eff*den_water+(1-Sw_eff)*den_oil\n",
        "print(den_flu_ini)"
      ],
      "execution_count": 0,
      "outputs": [
        {
          "output_type": "stream",
          "text": [
            "0.927\n"
          ],
          "name": "stdout"
        }
      ]
    },
    {
      "cell_type": "markdown",
      "metadata": {
        "id": "r-NjlUXXhitk",
        "colab_type": "text"
      },
      "source": [
        "### 3. Transform moduli from initial fluid saturation to dry state\n",
        "\n"
      ]
    },
    {
      "cell_type": "markdown",
      "metadata": {
        "id": "vP_-FQ6ZleI3",
        "colab_type": "text"
      },
      "source": [
        "$K_{dry}=\\frac{K_{sat}^{ini}*\\left (\\frac{\\phi  K_{min}}{K_{flu}^{ini}}+\\left ( 1-\\phi  \\right ) \\right )-K_{min}}{\\frac{\\phi K_{min}}{K_{fl}^{ini}}+\\frac{K_{sat}^{ini}}{K{min}}-1-\\phi }$"
      ]
    },
    {
      "cell_type": "code",
      "metadata": {
        "id": "XoQMJa1fhmcB",
        "colab_type": "code",
        "outputId": "4b9646e8-9a05-440e-dd7c-dade4dd0db7a",
        "colab": {
          "base_uri": "https://localhost:8080/",
          "height": 34
        }
      },
      "source": [
        "K_dry = ((K_sat_ini*((((poro_eff*K_min)/(K_flu_ini)))+(1)-(poro_eff)))-K_min)/(((poro_eff*K_min)/(K_flu_ini))+((K_sat_ini)/(K_min))-1-(poro_eff))\n",
        "print (K_dry)"
      ],
      "execution_count": 0,
      "outputs": [
        {
          "output_type": "stream",
          "text": [
            "7.6769171413638215\n"
          ],
          "name": "stdout"
        }
      ]
    },
    {
      "cell_type": "markdown",
      "metadata": {
        "id": "nX7fh_oSsr0h",
        "colab_type": "text"
      },
      "source": [
        "### 4. Calculate new fluid properties ($Sw_{effe}$)"
      ]
    },
    {
      "cell_type": "markdown",
      "metadata": {
        "id": "Y6n6VUUms2jh",
        "colab_type": "text"
      },
      "source": [
        "$K_{fl}^{fin}=K_{wet}$"
      ]
    },
    {
      "cell_type": "code",
      "metadata": {
        "id": "_NilrJiTta6O",
        "colab_type": "code",
        "outputId": "22b97e31-5d5f-4025-cd1b-a9d54b429e13",
        "colab": {
          "base_uri": "https://localhost:8080/",
          "height": 34
        }
      },
      "source": [
        "K_fluid_final = K_wat ; # \"GPa\"\n",
        "print (K_wat)"
      ],
      "execution_count": 0,
      "outputs": [
        {
          "output_type": "stream",
          "text": [
            "3\n"
          ],
          "name": "stdout"
        }
      ]
    },
    {
      "cell_type": "markdown",
      "metadata": {
        "id": "25n1w6cGtK1A",
        "colab_type": "text"
      },
      "source": [
        "$\\rho_{fl}^{fin}=\\rho_{wet}$"
      ]
    },
    {
      "cell_type": "code",
      "metadata": {
        "id": "WHM2ROVashtj",
        "colab_type": "code",
        "outputId": "72314cbb-b58c-4524-b5a2-bf2225b5b3cd",
        "colab": {
          "base_uri": "https://localhost:8080/",
          "height": 34
        }
      },
      "source": [
        "den_fluid_final = den_water; # \"g/cm^3\"\n",
        "print (den_fluid_final)"
      ],
      "execution_count": 0,
      "outputs": [
        {
          "output_type": "stream",
          "text": [
            "1.07\n"
          ],
          "name": "stdout"
        }
      ]
    },
    {
      "cell_type": "markdown",
      "metadata": {
        "id": "i5DVzQDnt3mb",
        "colab_type": "text"
      },
      "source": [
        "### 5. Transform from the dry moduli to the new fluid-saturated state"
      ]
    },
    {
      "cell_type": "markdown",
      "metadata": {
        "id": "Dir6-hwdt_eK",
        "colab_type": "text"
      },
      "source": [
        "$K_{sat}^{final}=K_{dry}+\\frac{\\left (1-\\frac{K_{dry}}{K_{min}} \\right )^{2}}{\\frac{\\phi}{K_{fl}^{fin}}+\\frac{1-\\phi }{K_min}+\\frac{K_{dry}}{K_{min}^2}}$"
      ]
    },
    {
      "cell_type": "code",
      "metadata": {
        "id": "0K0_NqEtt-p5",
        "colab_type": "code",
        "outputId": "f05270b8-ad08-49dc-c04f-93efaf5275cf",
        "colab": {
          "base_uri": "https://localhost:8080/",
          "height": 34
        }
      },
      "source": [
        "K_sat_final = K_dry + ((pow((1-(K_dry/K_min)), 2)/((poro_eff/K_fluid_final))+((1-poro_eff)/K_min))-((K_dry)/(pow(K_min, 2))))\n",
        "print(K_sat_final)"
      ],
      "execution_count": 0,
      "outputs": [
        {
          "output_type": "stream",
          "text": [
            "13.935233531323195\n"
          ],
          "name": "stdout"
        }
      ]
    },
    {
      "cell_type": "markdown",
      "metadata": {
        "id": "D32hqZLqyD0z",
        "colab_type": "text"
      },
      "source": [
        "### 6. Shear modulus is unchanged"
      ]
    },
    {
      "cell_type": "markdown",
      "metadata": {
        "id": "7iCMhpCPyIsM",
        "colab_type": "text"
      },
      "source": [
        "$\\mu = \\rho V_{s}^{2}$"
      ]
    },
    {
      "cell_type": "code",
      "metadata": {
        "id": "WAjY-xGDu95f",
        "colab_type": "code",
        "outputId": "0213075d-762f-4744-a0d1-e4b68a6ad4af",
        "colab": {
          "base_uri": "https://localhost:8080/",
          "height": 34
        }
      },
      "source": [
        "mu = den_bulk*(pow(Vs, 2)) #\"Shear Modulus\"\n",
        "print (mu)"
      ],
      "execution_count": 0,
      "outputs": [
        {
          "output_type": "stream",
          "text": [
            "2.0665792499999998\n"
          ],
          "name": "stdout"
        }
      ]
    },
    {
      "cell_type": "markdown",
      "metadata": {
        "id": "uJPBzHzMypsb",
        "colab_type": "text"
      },
      "source": [
        "### 7. Transform density"
      ]
    },
    {
      "cell_type": "markdown",
      "metadata": {
        "id": "4g0L5LHvyxJi",
        "colab_type": "text"
      },
      "source": [
        "$\\rho_{final} = \\rho_{quartz} \\left ( 1-\\phi  \\right )+\\rho_{fluid}^{final}\\phi$"
      ]
    },
    {
      "cell_type": "code",
      "metadata": {
        "id": "zg0SMhyiyshz",
        "colab_type": "code",
        "outputId": "6db9ff80-970b-4833-c38e-979f74385c49",
        "colab": {
          "base_uri": "https://localhost:8080/",
          "height": 34
        }
      },
      "source": [
        "den_final = (den_quartz * (1-(poro_eff)))+(den_fluid_final*poro_eff)\n",
        "print (den_final)"
      ],
      "execution_count": 0,
      "outputs": [
        {
          "output_type": "stream",
          "text": [
            "2.1759999999999997\n"
          ],
          "name": "stdout"
        }
      ]
    },
    {
      "cell_type": "code",
      "metadata": {
        "id": "GhjXg_mGzd_V",
        "colab_type": "code",
        "colab": {}
      },
      "source": [
        ""
      ],
      "execution_count": 0,
      "outputs": []
    },
    {
      "cell_type": "markdown",
      "metadata": {
        "id": "ZuheXIXuzqAi",
        "colab_type": "text"
      },
      "source": [
        "### 8. Compute the new velocities"
      ]
    },
    {
      "cell_type": "markdown",
      "metadata": {
        "id": "7ZgJVNZuzvY4",
        "colab_type": "text"
      },
      "source": [
        "$V_{s}=\\sqrt{\\frac{\\mu}{\\rho_{fin}}}$"
      ]
    },
    {
      "cell_type": "code",
      "metadata": {
        "id": "Urf-2iWQ0O_C",
        "colab_type": "code",
        "outputId": "bf637041-1133-413f-a772-cedfc78819f2",
        "colab": {
          "base_uri": "https://localhost:8080/",
          "height": 34
        }
      },
      "source": [
        "new_Vs = math.sqrt(mu/den_final)\n",
        "print (new_Vs)"
      ],
      "execution_count": 0,
      "outputs": [
        {
          "output_type": "stream",
          "text": [
            "0.9745330824863229\n"
          ],
          "name": "stdout"
        }
      ]
    },
    {
      "cell_type": "code",
      "metadata": {
        "id": "Ykcdi8Ro2WHz",
        "colab_type": "code",
        "outputId": "5dc2b44a-e3ba-472d-c286-092abe396583",
        "colab": {
          "base_uri": "https://localhost:8080/",
          "height": 34
        }
      },
      "source": [
        ""
      ],
      "execution_count": 0,
      "outputs": [
        {
          "output_type": "execute_result",
          "data": {
            "text/plain": [
              "0.9745330824863229"
            ]
          },
          "metadata": {
            "tags": []
          },
          "execution_count": 74
        }
      ]
    },
    {
      "cell_type": "markdown",
      "metadata": {
        "id": "vmO_Ev2pz711",
        "colab_type": "text"
      },
      "source": [
        "$V_{p}= \\sqrt{\\frac{K_{sat}^{fin}+\\frac{4}{3}\\mu}{\\rho_{fin}}}$"
      ]
    },
    {
      "cell_type": "code",
      "metadata": {
        "id": "kz9UkrDm0nQm",
        "colab_type": "code",
        "outputId": "fed8bed8-4852-4129-e90e-9abb60dd4cea",
        "colab": {
          "base_uri": "https://localhost:8080/",
          "height": 50
        }
      },
      "source": [
        "new_Vp = math.sqrt(((K_sat_final)+((4/3)*(mu)))/den_final)\n",
        "print (new_Vp)"
      ],
      "execution_count": 0,
      "outputs": [
        {
          "output_type": "stream",
          "text": [
            "2.7695389205442766\n",
            "ERROR! Session/line number was not unique in database. History logging moved to new session 75\n"
          ],
          "name": "stdout"
        }
      ]
    }
  ]
}