{
  "nbformat": 4,
  "nbformat_minor": 0,
  "metadata": {
    "colab": {
      "name": "GassmannFluidSubstitution_Sliders.ipynb",
      "provenance": [],
      "collapsed_sections": [],
      "include_colab_link": true
    },
    "kernelspec": {
      "name": "python3",
      "display_name": "Python 3"
    }
  },
  "cells": [
    {
      "cell_type": "markdown",
      "metadata": {
        "id": "view-in-github",
        "colab_type": "text"
      },
      "source": [
        "<a href=\"https://colab.research.google.com/github/roderickperez/GassmannFluidSubstitution/blob/master/GassmannFluidSubstitution_Sliders2.ipynb\" target=\"_parent\"><img src=\"https://colab.research.google.com/assets/colab-badge.svg\" alt=\"Open In Colab\"/></a>"
      ]
    },
    {
      "cell_type": "markdown",
      "metadata": {
        "id": "EKRZSRXwH53m",
        "colab_type": "text"
      },
      "source": [
        "# **Gassmann Fluid Substitution**\n",
        "### Part Ia (with Sliders)\n",
        "Author: Roderick Perez"
      ]
    },
    {
      "cell_type": "code",
      "metadata": {
        "id": "92ffjBqfbn7a",
        "colab_type": "code",
        "cellView": "form",
        "outputId": "4fa775ec-498d-4666-cf51-29692a225347",
        "colab": {
          "base_uri": "https://localhost:8080/",
          "height": 50
        }
      },
      "source": [
        "# Import packages\n",
        "import math\n",
        "\n",
        "\n",
        "# \"Temperature (Celcius)\"\n",
        "T = 100 #@param {type:\"slider\", min:0, max:350, step:1}\n",
        "\n",
        "# \"Pressure (bars)\"\n",
        "P = 250 #@param {type:\"slider\", min:0, max:500, step:1}\n",
        "\n",
        "# \"Bulk Density (g/cm^3)\"\n",
        "den_bulk = 2.13 #@param {type:\"slider\", min:2.0, max:3.2, step:0.1}\n",
        "\n",
        "# \"P-wave Velocity (km/s)\"\n",
        "Vp = 2.525 #@param {type:\"slider\", min:1.5, max:3.0, step:0.001}\n",
        "\n",
        "# \"S-wave Velocity (km/s)\"\n",
        "Vs = 0.985 #@param {type:\"slider\", min:0.250, max:1.5, step:0.001}\n",
        "\n",
        "# \"Effective Porosity\"\n",
        "poro_eff = 0.3 #@param {type:\"slider\", min:0, max:1, step:0.01}\n",
        "\n",
        "# \"Water Saturation\"\n",
        "Sw_eff = 0.85 #@param {type:\"slider\", min:0, max:1, step:0.01}\n",
        "\n",
        "# \"Bulk modulus for a 100% quartz rock (GPa)\"\n",
        "K_min = 36.6 #@param {type:\"slider\", min:0, max:100, step:0.1}\n",
        "\n",
        "# \"Quartz density (g/cm^3)\"\n",
        "den_quartz = 2.65 #@param {type:\"slider\", min:2.0, max:3.2, step:0.1}\n",
        "\n",
        "# \"Water density (g/cm^3)\"\n",
        "den_water = 1.07  #@param {type:\"slider\", min:1.0, max:2.0, step:0.1}\n",
        "\n",
        "# \"Water Bulk modulus (GPa)\"\n",
        "K_wat = 3 #@param {type:\"slider\", min:0, max:10, step:0.1}\n",
        "\n",
        "# \"Oil density (g/cm^3)\"\n",
        "den_oil = 0.85  #@param {type:\"slider\", min:0.0, max:1.5, step:0.1}\n",
        "\n",
        "# \"Water Bulk modulus (GPa)\"\n",
        "K_oil = 1.3 #@param {type:\"slider\", min:0, max:10, step:0.1}\n",
        "\n",
        "\n",
        "# 1. Calculate Bulk Modulus of saturated rock initial\n",
        "K_sat_ini = den_bulk*((pow(Vp, 2))-((4/3)*(pow(Vs, 2))))\n",
        "\n",
        "mu = den_bulk*(pow(Vs, 2))\n",
        "\n",
        "# 2. Compute effective fluid properties\n",
        "K_flu_ini = 1 / ((Sw_eff/K_wat)+((1-Sw_eff)/K_oil))\n",
        "\n",
        "den_flu_ini = Sw_eff*den_water+(1-Sw_eff)*den_oil\n",
        "\n",
        "# 3. Transform moduli from initial fluid saturation to dry state\n",
        "K_dry = ((K_sat_ini*((((poro_eff*K_min)/(K_flu_ini)))+(1)-(poro_eff)))-K_min)/(((poro_eff*K_min)/(K_flu_ini))+((K_sat_ini)/(K_min))-1-(poro_eff))\n",
        "\n",
        "# 4. Calculate new fluid properties (Sw_{effec})\n",
        "K_fluid_final = K_wat ; # \"GPa\"\n",
        "\n",
        "den_fluid_final = den_water; # \"g/cm^3\"\n",
        "\n",
        "# 5. Transform from the dry moduli to the new fluid-saturated state\n",
        "K_sat_final = K_dry + ((pow((1-(K_dry/K_min)), 2)/((poro_eff/K_fluid_final))+((1-poro_eff)/K_min))-((K_dry)/(pow(K_min, 2))))\n",
        "\n",
        "# 6. Shear modulus (unchanged)\n",
        "mu = den_bulk*(pow(Vs, 2)) #\"Shear Modulus\"\n",
        "\n",
        "# 7. Transform density\n",
        "den_final = (den_quartz * (1-(poro_eff)))+(den_fluid_final*poro_eff)\n",
        "\n",
        "# 8. Compute the new velocities\n",
        "new_Vs = math.sqrt(mu/den_final)\n",
        "new_Vp = math.sqrt(((K_sat_final)+((4/3)*(mu)))/den_final)\n",
        "print (\"P-wave: \", new_Vp)\n",
        "print (\"S-wave: \", new_Vs)"
      ],
      "execution_count": 0,
      "outputs": [
        {
          "output_type": "stream",
          "text": [
            "P-wave:  2.692524409798907\n",
            "S-wave:  0.9745330824863229\n"
          ],
          "name": "stdout"
        }
      ]
    }
  ]
}